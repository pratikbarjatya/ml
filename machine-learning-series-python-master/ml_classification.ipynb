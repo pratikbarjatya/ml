{
 "cells": [
  {
   "cell_type": "markdown",
   "metadata": {},
   "source": [
    "## Introduction\n",
    "\n",
    "Classification is a machine learning algorithm whose output is within a set of discrete labels. This is in contrast to Regression, which involved a target variable that was on a continuous range of values.\n",
    "\n",
    "Throughout this tutorial we'll review different classification algorithms, but you'll notice that the workflow is consistent: split the dataset into training and testing datasets, fit the model on the training set, and classify each data point in the testing set. "
   ]
  },
  {
   "cell_type": "markdown",
   "metadata": {},
   "source": [
    "## LDA vs QDA\n",
    "\n",
    "Discriminant Analysis is a statistical technique used to classify data into groups based on each data point's features. "
   ]
  },
  {
   "cell_type": "markdown",
   "metadata": {},
   "source": [
    "### Linear Discriminant Analysis\n",
    "\n",
    "Linear Discriminant Analysis (LDA) is a linear classification algorithm used for when it can be assumed that the covariance is the same for <b>all</b> classes. It's mostly used as a dimension reduction technique in the pre-processing portion so that the different classes are separable and therefore easier to classify and avoid overfitting. \n",
    "\n",
    "LDA is similar to Principal Component Analysis (PCA), but LDA also considers the axes that maximize the separation between multiple classes. It works by finding the linear combinations of the original variables that gives the best separation between the groups in the data set. "
   ]
  },
  {
   "cell_type": "markdown",
   "metadata": {},
   "source": [
    "### Quadratic Discriminant Analysis\n",
    "\n",
    "Quadratic Discriminant Analysis, on the other hand, is used for heterogeneous variance-covariance matrices. Because QDA has more parameters to estimate, it's typically less accurate than LDA."
   ]
  },
  {
   "cell_type": "markdown",
   "metadata": {},
   "source": [
    "## Support Vector Machines\n",
    "\n",
    "Support Vector Machines (SVMs) is a machine learning algorithm used for classification tasks. Its primary goal is to find an optimal separating hyperplane that separates the data into its classes. This optimal separating hyperplane is the result of the maximization of the margin of the training data.\n",
    "\n",
    "### Separating Hyperplane\n",
    "\n",
    "Let's take a look at the scatterplot of the iris dataset that could easily be used by a SVM: \n",
    "\n",
    "![alt text](https://github.com/lesley2958/regression/blob/master/log-scatter.png?raw=true \"Logo Title Text 1\")\n",
    "\n",
    "Just by looking at it, it's fairly obvious how the two classes can be easily separated. The line which separates the two classes is called the <b>separating hyperplane</b>.\n",
    "\n",
    "In this example, the hyperplane is just two-dimensional, but SVMs can work in any number of dimensions, which is why we refer to it as <i>hyperplane</i>.\n",
    "\n",
    "#### Optimal Separating Hyperplane\n",
    "\n",
    "Going off the scatter plot above, there are a number of separating hyperplanes. The job of the SVM is find the <i>optimal</i> one. \n",
    "\n",
    "To accomplish this, we choose the separating hyperplane that maximizes the distance from the datapoints in each category. This is so we have a hyperplane that generalizes well.\n",
    "\n",
    "### Margins\n",
    "\n",
    "Given a hyperplane, we can compute the distance between the hyperplane and the closest data point. With this value, we can double the value to get the <b>margin</b>. Inside the margin, there are no datapoints. \n",
    "\n",
    "The larger the margin, the greater the distance between the hyperplane and datapoint, which means we need to <b>maximize</b> the margin. \n",
    "\n",
    "![alt text](https://github.com/lesley2958/ml-classification/blob/master/margin.png?raw=true \"Logo Title Text 1\")\n",
    "\n",
    "### Equation\n",
    "\n",
    "Recall the equation of a hyperplane: w<sup>T</sup>x = 0. Here, `w` and `x` are vectors. If we combine this equation with `y = ax + b`, we get:\n",
    "\n",
    "![alt text](https://github.com/lesley2958/ml-classification/blob/master/wt.png?raw=true \"Logo Title Text 1\")\n",
    "\n",
    "This is because we can rewrite `y - ax - b = 0`. This then becomes:\n",
    "\n",
    "w<sup>T</sup>x = -b &Chi; (1) + (-a) &Chi; x + 1 &Chi; y\n",
    "\n",
    "This is just another way of writing: w<sup>T</sup>x = y - ax - b. We use this equation instead of the traditional `y = ax + b` because it's easier to use when we have more than 2 dimensions.  \n",
    "\n",
    "#### Example\n",
    "\n",
    "Let's take a look at an example scatter plot with the hyperlane graphed: \n",
    "\n",
    "![alt text](https://github.com/lesley2958/ml-classification/blob/master/ex1.png?raw=true \"Logo Title Text 1\")\n",
    "\n",
    "Here, the hyperplane is x<sub>2</sub> = -2x<sub>1</sub>. Let's turn this into the vector equivalent:\n",
    "\n",
    "![alt text](https://github.com/lesley2958/ml-classification/blob/master/vectex1.png?raw=true \"Logo Title Text 1\")\n",
    "\n",
    "Let's calculate the distance between point A and the hyperplane. We begin this process by projecting point A onto the hyperplane.\n",
    "\n",
    "![alt text](https://github.com/lesley2958/ml-classification/blob/master/projex1.png?raw=true \"Logo Title Text 1\")\n",
    "\n",
    "Point A is a vector from the origin to A. So if we project it onto the normal vector w: \n",
    "\n",
    "![alt text](https://github.com/lesley2958/ml-classification/blob/master/normex1.png?raw=true \"Logo Title Text 1\")\n",
    "\n",
    "This will get us the projected vector! With the points (3,4) and (2,1) [this came from w = (2,1)], we can compute `||p||`. Now, it'll take a few steps before we get there.\n",
    "\n",
    "We begin by computing `||w||`: \n",
    "\n",
    "`||w||` = &#8730;(2<sup>2</sup> + 1<sup>2</sup>) = &#8730;5. If we divide the coordinates by the magnitude of `||w||`, we can get the direction of w. This makes the vector u = (2/&#8730;5, 1/&#8730;5).\n",
    "\n",
    "Now, p is the orthogonal prhoojection of a onto w, so:\n",
    "\n",
    "![alt text](https://github.com/lesley2958/ml-classification/blob/master/orthproj.png?raw=true \"Logo Title Text 1\")\n",
    "\n",
    "#### Margin Computation\n",
    "\n",
    "Now that we have `||p||`, the distance between A and the hyperplane, the margin is defined by:\n",
    "\n",
    "margin = 2||p|| = 4&#8730;5. This is the margin of the hyperplane!\n"
   ]
  },
  {
   "cell_type": "markdown",
   "metadata": {},
   "source": [
    "## Iris Classification\n",
    "\n",
    "Let's perform the iris classification from earlier with a support vector machine model:"
   ]
  },
  {
   "cell_type": "code",
   "execution_count": 1,
   "metadata": {
    "collapsed": true
   },
   "outputs": [],
   "source": [
    "import numpy as np\n",
    "import matplotlib.pyplot as plt\n",
    "from sklearn import svm, datasets\n",
    "iris = datasets.load_iris()\n",
    "X = iris.data[:, :2] \n",
    "y = iris.target"
   ]
  },
  {
   "cell_type": "markdown",
   "metadata": {},
   "source": [
    "Now we can create an instance of SVM and fit the data. For this to happen, we need to declare a regularization parameter, C. "
   ]
  },
  {
   "cell_type": "code",
   "execution_count": 2,
   "metadata": {
    "collapsed": true
   },
   "outputs": [],
   "source": [
    "C = 1.0 \n",
    "svc = svm.SVC(kernel='linear', C=1, gamma=1).fit(X, y)"
   ]
  },
  {
   "cell_type": "markdown",
   "metadata": {},
   "source": [
    "Based off of this classifier, we can create a mesh graph:"
   ]
  },
  {
   "cell_type": "code",
   "execution_count": 3,
   "metadata": {},
   "outputs": [
    {
     "data": {
      "text/plain": [
       "<matplotlib.axes._subplots.AxesSubplot at 0x11116e4a8>"
      ]
     },
     "execution_count": 3,
     "metadata": {},
     "output_type": "execute_result"
    }
   ],
   "source": [
    "x_min, x_max = X[:, 0].min() - 1, X[:, 0].max() + 1\n",
    "y_min, y_max = X[:, 1].min() - 1, X[:, 1].max() + 1\n",
    "h = (x_max / x_min)/100\n",
    "xx, yy = np.meshgrid(np.arange(x_min, x_max, h),\n",
    "np.arange(y_min, y_max, h))\n",
    "plt.subplot(1, 1, 1)"
   ]
  },
  {
   "cell_type": "markdown",
   "metadata": {},
   "source": [
    "Now we pull the prediction method on our data:"
   ]
  },
  {
   "cell_type": "code",
   "execution_count": 4,
   "metadata": {
    "collapsed": true
   },
   "outputs": [],
   "source": [
    "Z = svc.predict(np.c_[xx.ravel(), yy.ravel()])\n",
    "Z = Z.reshape(xx.shape)"
   ]
  },
  {
   "cell_type": "markdown",
   "metadata": {},
   "source": [
    "Lastly, we visualize this with matplotlib:"
   ]
  },
  {
   "cell_type": "code",
   "execution_count": 5,
   "metadata": {},
   "outputs": [
    {
     "data": {
      "image/png": "[encoded data removed]",
      "text/plain": [
       "<matplotlib.figure.Figure at 0x11115ad68>"
      ]
     },
     "metadata": {},
     "output_type": "display_data"
    }
   ],
   "source": [
    "plt.contourf(xx, yy, Z, cmap=plt.cm.Paired, alpha=0.8)\n",
    "plt.scatter(X[:, 0], X[:, 1], c=y, cmap=plt.cm.Paired)\n",
    "plt.xlabel('Sepal length')\n",
    "plt.ylabel('Sepal width')\n",
    "plt.xlim(xx.min(), xx.max())\n",
    "plt.title('SVC with linear kernel')\n",
    "plt.show()"
   ]
  },
  {
   "cell_type": "markdown",
   "metadata": {},
   "source": [
    "### Kernels\n",
    "\n",
    "Classes aren't always easily separable. In these cases, we build a decision function that's polynomial instead of linear. This is done using the <b>kernel trick</b>.\n",
    "\n",
    "![alt text](https://github.com/lesley2958/regression/blob/master/svm.png?raw=true \"Logo Title Text 1\")\n",
    "\n",
    "If you modify the previous code with the kernel parameter, you'll get different results!"
   ]
  },
  {
   "cell_type": "code",
   "execution_count": 6,
   "metadata": {
    "collapsed": true
   },
   "outputs": [],
   "source": [
    "svc = svm.SVC(kernel='rbf', C=1, gamma=1).fit(X, y)"
   ]
  },
  {
   "cell_type": "markdown",
   "metadata": {},
   "source": [
    "Usually, linear kernels are the best choice if you have large number of features (>1000) because it is more likely that the data is linearly separable in high dimensional space. Also, you can RBF but do not forget to cross validate for its parameters as to avoid overfitting."
   ]
  },
  {
   "cell_type": "markdown",
   "metadata": {},
   "source": [
    "### Tuning\n",
    "\n",
    "Tuning parameters value for machine learning algorithms effectively improves the model performance. Let’s look at the list of parameters available with SVM.\n",
    "\n",
    "#### Gamma \n",
    "\n",
    "Notice our gamma value from earlier at 1. The higher the value of gamma the more our model will try to exact fit the as per training data set, leading to an overfit model.\n",
    "\n",
    "Let's see our visualizations with gamma values of 10 and 100: "
   ]
  },
  {
   "cell_type": "code",
   "execution_count": 7,
   "metadata": {
    "collapsed": true
   },
   "outputs": [],
   "source": [
    "svc = svm.SVC(kernel='linear', C=1, gamma=10).fit(X, y)\n",
    "svc = svm.SVC(kernel='linear', C=1, gamma=100).fit(X, y)"
   ]
  },
  {
   "cell_type": "markdown",
   "metadata": {},
   "source": [
    "### Evaluation\n",
    "\n",
    "As with any other machine learning model, there are pros and cons. In this section, we'll review the pros and cons of this particular model.\n",
    "\n",
    "#### Pros\n",
    "\n",
    "SVMs largest stength is its effectiveness in high dimensional spaces, even when the number of dimensions is greater than the number of samples. Lastly, it uses a subset of training points in the decision function (called support vectors), so it's also memory efficient.\n",
    "\n",
    "#### Cons\n",
    "\n",
    "Now, if we have a large dataset, the required time becomes high. SVMs also perform poorly when there's noise in the dataset. Lastly, SVM doesn’t directly provide probability estimates and must be calculated using an expensive five-fold cross-validation."
   ]
  },
  {
   "cell_type": "markdown",
   "metadata": {},
   "source": [
    "## Linear SVM\n",
    "\n",
    "SVM's implementation is based on the Sequential Minimal Optimization (SMO), which works as followS: \n",
    "\n",
    "1. recursively select a pair of elements ($\\alpha_1, \\alpha_2$).\n",
    "2. perform 1D optimization of the objective function on this pair.\n",
    "\n",
    "### Challenge\n",
    "\n",
    "Implement a function `linear_kernel()` that computes the kernel matrix K = $\\Phi \\Phi^T$\n",
    "\n",
    "Get a solution for the dual problem with [alphas, beta0] = SMO(K, ... y, C), where C = 0.1.\n",
    "\n",
    "### Kernel Matrix\n",
    "\n",
    "$K_{i,j} = \\langle \\Phi_i, \\Phi_j \\rangle$, the kernel matrix is obtained with the formula K = $\\Phi \\Phi^T$. Instead, however, you can use a different function to replace the scalar product, such as the Radial Basis Function (RBF). \n",
    "\n",
    "$ RBF(\\Phi_i, \\Phi_j) = exp(-\\gamma||\\Phi_i - \\Phi_j||^2)$\n",
    "\n",
    "#### Challenge \n",
    "\n",
    "Implement a function `rbf_kernel` and compute K with it. Set $\\gamma = 1$ and C = 1. \n",
    "\n",
    "How do $\\gamma$ and C influence results?\n",
    "\n",
    "How can you automatically find the parameters $\\gamma$ and C? Implement it."
   ]
  },
  {
   "cell_type": "code",
   "execution_count": null,
   "metadata": {
    "collapsed": true
   },
   "outputs": [],
   "source": []
  }
 ],
 "metadata": {
  "kernelspec": {
   "display_name": "Python 3",
   "language": "python",
   "name": "python3"
  },
  "language_info": {
   "codemirror_mode": {
    "name": "ipython",
    "version": 3
   },
   "file_extension": ".py",
   "mimetype": "text/x-python",
   "name": "python",
   "nbconvert_exporter": "python",
   "pygments_lexer": "ipython3",
   "version": "3.6.1"
  }
 },
 "nbformat": 4,
 "nbformat_minor": 2
}
